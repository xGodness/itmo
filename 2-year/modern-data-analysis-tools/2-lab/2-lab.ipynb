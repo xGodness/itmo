{
 "cells": [
  {
   "cell_type": "markdown",
   "source": [
    "# Assignment 2. Text analysis"
   ],
   "metadata": {
    "collapsed": false
   }
  },
  {
   "cell_type": "markdown",
   "source": [
    "## Setup environment"
   ],
   "metadata": {
    "collapsed": false
   }
  },
  {
   "cell_type": "code",
   "execution_count": 1488,
   "outputs": [
    {
     "name": "stderr",
     "output_type": "stream",
     "text": [
      "[nltk_data] Downloading package omw-1.4 to /home/xgodness/nltk_data...\n",
      "[nltk_data]   Package omw-1.4 is already up-to-date!\n",
      "[nltk_data] Downloading package wordnet to /home/xgodness/nltk_data...\n",
      "[nltk_data]   Package wordnet is already up-to-date!\n",
      "[nltk_data] Downloading package punkt to /home/xgodness/nltk_data...\n",
      "[nltk_data]   Package punkt is already up-to-date!\n",
      "[nltk_data] Downloading package stopwords to\n",
      "[nltk_data]     /home/xgodness/nltk_data...\n",
      "[nltk_data]   Package stopwords is already up-to-date!\n"
     ]
    }
   ],
   "source": [
    "import string\n",
    "from random import Random\n",
    "import pandas as pd\n",
    "import nltk\n",
    "from nltk.corpus import stopwords\n",
    "from nltk.stem import WordNetLemmatizer\n",
    "from sklearn.model_selection import train_test_split\n",
    "from sklearn.feature_extraction.text import CountVectorizer\n",
    "from sklearn.naive_bayes import MultinomialNB\n",
    "from sklearn.metrics import *\n",
    "\n",
    "nltk.download('omw-1.4')\n",
    "nltk.download('wordnet')\n",
    "nltk.download('punkt')\n",
    "nltk.download('stopwords')\n",
    "\n",
    "rng = Random()\n",
    "data = pd.read_csv(\"dataset.csv\")"
   ],
   "metadata": {
    "collapsed": false
   }
  },
  {
   "cell_type": "markdown",
   "source": [
    "## Training the model"
   ],
   "metadata": {
    "collapsed": false
   }
  },
  {
   "cell_type": "markdown",
   "source": [
    "### Quick glance on the data"
   ],
   "metadata": {
    "collapsed": false
   }
  },
  {
   "cell_type": "code",
   "execution_count": 1489,
   "outputs": [
    {
     "data": {
      "text/plain": "       genre                                             lyrics  \\\n0  Christian   Who am I, that the Lord of all the earth Woul...   \n1  Christian   Glory Revealed  By His Wounds He was pierced ...   \n2  Christian   Lord of heaven and earth Lord of all creation...   \n3  Christian   I can only imagine what it will be like When ...   \n4  Christian   I am not skilled to understand What God has w...   \n\n                                 SongInfo  \n0        CASTING CROWNS - WHO AM I LYRICS  \n1   GLORY REVEALED - BY HIS WOUNDS LYRICS  \n2  CAEDMON'S CALL - GOD OF WONDERS LYRICS  \n3     MERCYME - I CAN ONLY IMAGINE LYRICS  \n4   AARON SHUST - MY SAVIOR MY GOD LYRICS  ",
      "text/html": "<div>\n<style scoped>\n    .dataframe tbody tr th:only-of-type {\n        vertical-align: middle;\n    }\n\n    .dataframe tbody tr th {\n        vertical-align: top;\n    }\n\n    .dataframe thead th {\n        text-align: right;\n    }\n</style>\n<table border=\"1\" class=\"dataframe\">\n  <thead>\n    <tr style=\"text-align: right;\">\n      <th></th>\n      <th>genre</th>\n      <th>lyrics</th>\n      <th>SongInfo</th>\n    </tr>\n  </thead>\n  <tbody>\n    <tr>\n      <th>0</th>\n      <td>Christian</td>\n      <td>Who am I, that the Lord of all the earth Woul...</td>\n      <td>CASTING CROWNS - WHO AM I LYRICS</td>\n    </tr>\n    <tr>\n      <th>1</th>\n      <td>Christian</td>\n      <td>Glory Revealed  By His Wounds He was pierced ...</td>\n      <td>GLORY REVEALED - BY HIS WOUNDS LYRICS</td>\n    </tr>\n    <tr>\n      <th>2</th>\n      <td>Christian</td>\n      <td>Lord of heaven and earth Lord of all creation...</td>\n      <td>CAEDMON'S CALL - GOD OF WONDERS LYRICS</td>\n    </tr>\n    <tr>\n      <th>3</th>\n      <td>Christian</td>\n      <td>I can only imagine what it will be like When ...</td>\n      <td>MERCYME - I CAN ONLY IMAGINE LYRICS</td>\n    </tr>\n    <tr>\n      <th>4</th>\n      <td>Christian</td>\n      <td>I am not skilled to understand What God has w...</td>\n      <td>AARON SHUST - MY SAVIOR MY GOD LYRICS</td>\n    </tr>\n  </tbody>\n</table>\n</div>"
     },
     "execution_count": 1489,
     "metadata": {},
     "output_type": "execute_result"
    }
   ],
   "source": [
    "data.head()"
   ],
   "metadata": {
    "collapsed": false
   }
  },
  {
   "cell_type": "code",
   "execution_count": 1490,
   "outputs": [
    {
     "name": "stdout",
     "output_type": "stream",
     "text": [
      "<class 'pandas.core.frame.DataFrame'>\n",
      "RangeIndex: 558 entries, 0 to 557\n",
      "Data columns (total 3 columns):\n",
      " #   Column    Non-Null Count  Dtype \n",
      "---  ------    --------------  ----- \n",
      " 0   genre     558 non-null    object\n",
      " 1   lyrics    558 non-null    object\n",
      " 2   SongInfo  558 non-null    object\n",
      "dtypes: object(3)\n",
      "memory usage: 13.2+ KB\n"
     ]
    }
   ],
   "source": [
    "data.info()"
   ],
   "metadata": {
    "collapsed": false
   }
  },
  {
   "cell_type": "code",
   "execution_count": 1491,
   "outputs": [
    {
     "data": {
      "text/plain": "         genre                                             lyrics\n0    Christian   Who am I, that the Lord of all the earth Woul...\n1    Christian   Glory Revealed  By His Wounds He was pierced ...\n2    Christian   Lord of heaven and earth Lord of all creation...\n3    Christian   I can only imagine what it will be like When ...\n4    Christian   I am not skilled to understand What God has w...\n..         ...                                                ...\n553        R&B   Ha I dont care ha, about your past I just wan...\n554        R&B   Hoverin by my suitcase  Tryin to find a warm ...\n555        R&B   I dont know why I love you like I do  After a...\n556        R&B   C. C. Rider Elvis Presley  Well now see., C. ...\n557        R&B   Cynthia get up and dance to the music!  Get o...\n\n[558 rows x 2 columns]",
      "text/html": "<div>\n<style scoped>\n    .dataframe tbody tr th:only-of-type {\n        vertical-align: middle;\n    }\n\n    .dataframe tbody tr th {\n        vertical-align: top;\n    }\n\n    .dataframe thead th {\n        text-align: right;\n    }\n</style>\n<table border=\"1\" class=\"dataframe\">\n  <thead>\n    <tr style=\"text-align: right;\">\n      <th></th>\n      <th>genre</th>\n      <th>lyrics</th>\n    </tr>\n  </thead>\n  <tbody>\n    <tr>\n      <th>0</th>\n      <td>Christian</td>\n      <td>Who am I, that the Lord of all the earth Woul...</td>\n    </tr>\n    <tr>\n      <th>1</th>\n      <td>Christian</td>\n      <td>Glory Revealed  By His Wounds He was pierced ...</td>\n    </tr>\n    <tr>\n      <th>2</th>\n      <td>Christian</td>\n      <td>Lord of heaven and earth Lord of all creation...</td>\n    </tr>\n    <tr>\n      <th>3</th>\n      <td>Christian</td>\n      <td>I can only imagine what it will be like When ...</td>\n    </tr>\n    <tr>\n      <th>4</th>\n      <td>Christian</td>\n      <td>I am not skilled to understand What God has w...</td>\n    </tr>\n    <tr>\n      <th>...</th>\n      <td>...</td>\n      <td>...</td>\n    </tr>\n    <tr>\n      <th>553</th>\n      <td>R&amp;B</td>\n      <td>Ha I dont care ha, about your past I just wan...</td>\n    </tr>\n    <tr>\n      <th>554</th>\n      <td>R&amp;B</td>\n      <td>Hoverin by my suitcase  Tryin to find a warm ...</td>\n    </tr>\n    <tr>\n      <th>555</th>\n      <td>R&amp;B</td>\n      <td>I dont know why I love you like I do  After a...</td>\n    </tr>\n    <tr>\n      <th>556</th>\n      <td>R&amp;B</td>\n      <td>C. C. Rider Elvis Presley  Well now see., C. ...</td>\n    </tr>\n    <tr>\n      <th>557</th>\n      <td>R&amp;B</td>\n      <td>Cynthia get up and dance to the music!  Get o...</td>\n    </tr>\n  </tbody>\n</table>\n<p>558 rows × 2 columns</p>\n</div>"
     },
     "execution_count": 1491,
     "metadata": {},
     "output_type": "execute_result"
    }
   ],
   "source": [
    "all_columns = data[['genre', 'lyrics']]\n",
    "all_columns"
   ],
   "metadata": {
    "collapsed": false
   }
  },
  {
   "cell_type": "code",
   "execution_count": 1492,
   "outputs": [
    {
     "name": "stdout",
     "output_type": "stream",
     "text": [
      "['Christian' 'Country' 'Hip-Hop' 'Pop' 'Rock' 'R&B']\n"
     ]
    }
   ],
   "source": [
    "genres = all_columns['genre'].unique()\n",
    "print(genres)"
   ],
   "metadata": {
    "collapsed": false
   }
  },
  {
   "cell_type": "code",
   "execution_count": 1493,
   "outputs": [
    {
     "data": {
      "text/plain": "Pop          100\nRock          95\nChristian     94\nHip-Hop       91\nR&B           91\nCountry       87\nName: genre, dtype: int64"
     },
     "execution_count": 1493,
     "metadata": {},
     "output_type": "execute_result"
    }
   ],
   "source": [
    "all_columns['genre'].value_counts()"
   ],
   "metadata": {
    "collapsed": false
   }
  },
  {
   "cell_type": "markdown",
   "source": [
    "### Picking genres"
   ],
   "metadata": {
    "collapsed": false
   }
  },
  {
   "cell_type": "code",
   "execution_count": 1494,
   "outputs": [
    {
     "name": "stdout",
     "output_type": "stream",
     "text": [
      "Rock and Hip-Hop\n"
     ]
    }
   ],
   "source": [
    "rng.seed(1337)\n",
    "first = rng.choice(genres)\n",
    "rng.seed(7331)\n",
    "second = rng.choice(genres)\n",
    "print(\"{} and {}\".format(first, second))"
   ],
   "metadata": {
    "collapsed": false
   }
  },
  {
   "cell_type": "markdown",
   "source": [
    "### Remove redundant rows"
   ],
   "metadata": {
    "collapsed": false
   }
  },
  {
   "cell_type": "code",
   "execution_count": 1495,
   "outputs": [],
   "source": [
    "columns = all_columns[(all_columns[\"genre\"] == \"Rock\") | (all_columns[\"genre\"] == \"Hip-Hop\")]"
   ],
   "metadata": {
    "collapsed": false
   }
  },
  {
   "cell_type": "markdown",
   "source": [
    "### Normalising data"
   ],
   "metadata": {
    "collapsed": false
   }
  },
  {
   "cell_type": "code",
   "execution_count": 1496,
   "outputs": [
    {
     "data": {
      "text/plain": "181     yet our best trained best educated best equip...\n182     backstroke lover always hidin neath the cover...\n183     intro  fuck all yall hoes  get a grip motherf...\n184     one two three and to the fo  snoop doggy dogg...\n185     you are now about to witness the strength of ...\n                             ...                        \n462     cant explain all the feelings that youre maki...\n463     one foot on the brake and one on the gas hey ...\n464     carry on my wayward son therell be peace when...\n465     ooh yeah turn it up come on  im working hard ...\n466     out on the road for forty days last night in ...\nName: normalised, Length: 186, dtype: object"
     },
     "execution_count": 1496,
     "metadata": {},
     "output_type": "execute_result"
    }
   ],
   "source": [
    "# normalised = columns[\"lyrics\"].str.lower()\n",
    "# ^^^ do not remove punctuation\n",
    "normalised = columns[\"lyrics\"].str.replace('[{}]'.format(string.punctuation), '', regex=True).str.lower()\n",
    "# ^^^ remove punctuation\n",
    "\n",
    "columns[\"normalised\"] = normalised\n",
    "columns[\"normalised\"]"
   ],
   "metadata": {
    "collapsed": false
   }
  },
  {
   "cell_type": "markdown",
   "source": [
    "### Tokenizing data"
   ],
   "metadata": {
    "collapsed": false
   }
  },
  {
   "cell_type": "code",
   "execution_count": 1497,
   "outputs": [
    {
     "data": {
      "text/plain": "181    [yet, our, best, trained, best, educated, best...\n182    [backstroke, lover, always, hidin, neath, the,...\n183    [intro, fuck, all, yall, hoes, get, a, grip, m...\n184    [one, two, three, and, to, the, fo, snoop, dog...\n185    [you, are, now, about, to, witness, the, stren...\n                             ...                        \n462    [cant, explain, all, the, feelings, that, your...\n463    [one, foot, on, the, brake, and, one, on, the,...\n464    [carry, on, my, wayward, son, therell, be, pea...\n465    [ooh, yeah, turn, it, up, come, on, im, workin...\n466    [out, on, the, road, for, forty, days, last, n...\nName: tokened, Length: 186, dtype: object"
     },
     "execution_count": 1497,
     "metadata": {},
     "output_type": "execute_result"
    }
   ],
   "source": [
    "columns[\"tokened\"] = columns.apply(lambda row: nltk.word_tokenize(row['normalised']), axis=1)\n",
    "columns[\"tokened\"]"
   ],
   "metadata": {
    "collapsed": false
   }
  },
  {
   "cell_type": "markdown",
   "source": [
    "### Removing stop-words"
   ],
   "metadata": {
    "collapsed": false
   }
  },
  {
   "cell_type": "code",
   "execution_count": 1498,
   "outputs": [
    {
     "data": {
      "text/plain": "181    yet, best, trained, best, educated, best, equi...\n182    backstroke, lover, always, hidin, neath, cover...\n183    intro, fuck, yall, hoes, get, grip, motherfuck...\n184    one, two, three, fo, snoop, doggy, dogg, dr, d...\n185    witness, strength, street, knowledge, 1, ice, ...\n                             ...                        \n462    cant, explain, feelings, youre, making, feel, ...\n463    one, foot, brake, one, gas, hey, well, theres,...\n464    carry, wayward, son, therell, peace, done, lay...\n465    ooh, yeah, turn, come, im, working, hard, your...\n466    road, forty, days, last, night, little, rock, ...\nName: noiseless, Length: 186, dtype: object"
     },
     "execution_count": 1498,
     "metadata": {},
     "output_type": "execute_result"
    }
   ],
   "source": [
    "noise = stopwords.words(\"english\")\n",
    "noiseless = columns[\"tokened\"].apply(lambda x: [item for item in x if item not in noise])\n",
    "noiseless_col = [\", \".join(w) for w in noiseless]\n",
    "columns[\"noiseless\"] = noiseless_col\n",
    "columns[\"noiseless\"]"
   ],
   "metadata": {
    "collapsed": false
   }
  },
  {
   "cell_type": "markdown",
   "source": [
    "### Lemmatisation"
   ],
   "metadata": {
    "collapsed": false
   }
  },
  {
   "cell_type": "code",
   "execution_count": 1499,
   "outputs": [
    {
     "data": {
      "text/plain": "181    yet, best, trained, best, educated, best, equi...\n182    backstroke, lover, always, hidin, neath, cover...\n183    intro, fuck, yall, hoes, get, grip, motherfuck...\n184    one, two, three, fo, snoop, doggy, dogg, dr, d...\n185    witness, strength, street, knowledge, 1, ice, ...\n                             ...                        \n462    cant, explain, feelings, youre, making, feel, ...\n463    one, foot, brake, one, gas, hey, well, theres,...\n464    carry, wayward, son, therell, peace, done, lay...\n465    ooh, yeah, turn, come, im, working, hard, your...\n466    road, forty, days, last, night, little, rock, ...\nName: lemmatised, Length: 186, dtype: object"
     },
     "execution_count": 1499,
     "metadata": {},
     "output_type": "execute_result"
    }
   ],
   "source": [
    "lemmatiser = WordNetLemmatizer()\n",
    "lemmatised = columns[\"noiseless\"].apply(lambda x: [lemmatiser.lemmatize(x)])\n",
    "lemmatised_col = [\", \".join(w) for w in lemmatised]\n",
    "columns[\"lemmatised\"] = lemmatised_col\n",
    "columns[\"lemmatised\"]"
   ],
   "metadata": {
    "collapsed": false
   }
  },
  {
   "cell_type": "markdown",
   "source": [
    "### Result"
   ],
   "metadata": {
    "collapsed": false
   }
  },
  {
   "cell_type": "code",
   "execution_count": 1500,
   "outputs": [
    {
     "data": {
      "text/plain": "       genre                                             lyrics  \\\n181  Hip-Hop   Yet our best trained, best educated Best equi...   \n182  Hip-Hop   Backstroke lover always hidin neath the cover...   \n183  Hip-Hop   [Intro]  Fuck all yall hoes  Get a grip mothe...   \n184  Hip-Hop   One, two, three and to the fo  Snoop Doggy Do...   \n185  Hip-Hop   You are now about to witness the strength of ...   \n..       ...                                                ...   \n462     Rock   Cant explain all the feelings that youre maki...   \n463     Rock   One foot on the brake and one on the gas, hey...   \n464     Rock   Carry on my wayward son Therell be peace when...   \n465     Rock   Ooh yeah Turn it up Come on  Im working hard,...   \n466     Rock   Out on the road for forty days Last night in ...   \n\n                                            normalised  \\\n181   yet our best trained best educated best equip...   \n182   backstroke lover always hidin neath the cover...   \n183   intro  fuck all yall hoes  get a grip motherf...   \n184   one two three and to the fo  snoop doggy dogg...   \n185   you are now about to witness the strength of ...   \n..                                                 ...   \n462   cant explain all the feelings that youre maki...   \n463   one foot on the brake and one on the gas hey ...   \n464   carry on my wayward son therell be peace when...   \n465   ooh yeah turn it up come on  im working hard ...   \n466   out on the road for forty days last night in ...   \n\n                                               tokened  \\\n181  [yet, our, best, trained, best, educated, best...   \n182  [backstroke, lover, always, hidin, neath, the,...   \n183  [intro, fuck, all, yall, hoes, get, a, grip, m...   \n184  [one, two, three, and, to, the, fo, snoop, dog...   \n185  [you, are, now, about, to, witness, the, stren...   \n..                                                 ...   \n462  [cant, explain, all, the, feelings, that, your...   \n463  [one, foot, on, the, brake, and, one, on, the,...   \n464  [carry, on, my, wayward, son, therell, be, pea...   \n465  [ooh, yeah, turn, it, up, come, on, im, workin...   \n466  [out, on, the, road, for, forty, days, last, n...   \n\n                                             noiseless  \\\n181  yet, best, trained, best, educated, best, equi...   \n182  backstroke, lover, always, hidin, neath, cover...   \n183  intro, fuck, yall, hoes, get, grip, motherfuck...   \n184  one, two, three, fo, snoop, doggy, dogg, dr, d...   \n185  witness, strength, street, knowledge, 1, ice, ...   \n..                                                 ...   \n462  cant, explain, feelings, youre, making, feel, ...   \n463  one, foot, brake, one, gas, hey, well, theres,...   \n464  carry, wayward, son, therell, peace, done, lay...   \n465  ooh, yeah, turn, come, im, working, hard, your...   \n466  road, forty, days, last, night, little, rock, ...   \n\n                                            lemmatised  \n181  yet, best, trained, best, educated, best, equi...  \n182  backstroke, lover, always, hidin, neath, cover...  \n183  intro, fuck, yall, hoes, get, grip, motherfuck...  \n184  one, two, three, fo, snoop, doggy, dogg, dr, d...  \n185  witness, strength, street, knowledge, 1, ice, ...  \n..                                                 ...  \n462  cant, explain, feelings, youre, making, feel, ...  \n463  one, foot, brake, one, gas, hey, well, theres,...  \n464  carry, wayward, son, therell, peace, done, lay...  \n465  ooh, yeah, turn, come, im, working, hard, your...  \n466  road, forty, days, last, night, little, rock, ...  \n\n[186 rows x 6 columns]",
      "text/html": "<div>\n<style scoped>\n    .dataframe tbody tr th:only-of-type {\n        vertical-align: middle;\n    }\n\n    .dataframe tbody tr th {\n        vertical-align: top;\n    }\n\n    .dataframe thead th {\n        text-align: right;\n    }\n</style>\n<table border=\"1\" class=\"dataframe\">\n  <thead>\n    <tr style=\"text-align: right;\">\n      <th></th>\n      <th>genre</th>\n      <th>lyrics</th>\n      <th>normalised</th>\n      <th>tokened</th>\n      <th>noiseless</th>\n      <th>lemmatised</th>\n    </tr>\n  </thead>\n  <tbody>\n    <tr>\n      <th>181</th>\n      <td>Hip-Hop</td>\n      <td>Yet our best trained, best educated Best equi...</td>\n      <td>yet our best trained best educated best equip...</td>\n      <td>[yet, our, best, trained, best, educated, best...</td>\n      <td>yet, best, trained, best, educated, best, equi...</td>\n      <td>yet, best, trained, best, educated, best, equi...</td>\n    </tr>\n    <tr>\n      <th>182</th>\n      <td>Hip-Hop</td>\n      <td>Backstroke lover always hidin neath the cover...</td>\n      <td>backstroke lover always hidin neath the cover...</td>\n      <td>[backstroke, lover, always, hidin, neath, the,...</td>\n      <td>backstroke, lover, always, hidin, neath, cover...</td>\n      <td>backstroke, lover, always, hidin, neath, cover...</td>\n    </tr>\n    <tr>\n      <th>183</th>\n      <td>Hip-Hop</td>\n      <td>[Intro]  Fuck all yall hoes  Get a grip mothe...</td>\n      <td>intro  fuck all yall hoes  get a grip motherf...</td>\n      <td>[intro, fuck, all, yall, hoes, get, a, grip, m...</td>\n      <td>intro, fuck, yall, hoes, get, grip, motherfuck...</td>\n      <td>intro, fuck, yall, hoes, get, grip, motherfuck...</td>\n    </tr>\n    <tr>\n      <th>184</th>\n      <td>Hip-Hop</td>\n      <td>One, two, three and to the fo  Snoop Doggy Do...</td>\n      <td>one two three and to the fo  snoop doggy dogg...</td>\n      <td>[one, two, three, and, to, the, fo, snoop, dog...</td>\n      <td>one, two, three, fo, snoop, doggy, dogg, dr, d...</td>\n      <td>one, two, three, fo, snoop, doggy, dogg, dr, d...</td>\n    </tr>\n    <tr>\n      <th>185</th>\n      <td>Hip-Hop</td>\n      <td>You are now about to witness the strength of ...</td>\n      <td>you are now about to witness the strength of ...</td>\n      <td>[you, are, now, about, to, witness, the, stren...</td>\n      <td>witness, strength, street, knowledge, 1, ice, ...</td>\n      <td>witness, strength, street, knowledge, 1, ice, ...</td>\n    </tr>\n    <tr>\n      <th>...</th>\n      <td>...</td>\n      <td>...</td>\n      <td>...</td>\n      <td>...</td>\n      <td>...</td>\n      <td>...</td>\n    </tr>\n    <tr>\n      <th>462</th>\n      <td>Rock</td>\n      <td>Cant explain all the feelings that youre maki...</td>\n      <td>cant explain all the feelings that youre maki...</td>\n      <td>[cant, explain, all, the, feelings, that, your...</td>\n      <td>cant, explain, feelings, youre, making, feel, ...</td>\n      <td>cant, explain, feelings, youre, making, feel, ...</td>\n    </tr>\n    <tr>\n      <th>463</th>\n      <td>Rock</td>\n      <td>One foot on the brake and one on the gas, hey...</td>\n      <td>one foot on the brake and one on the gas hey ...</td>\n      <td>[one, foot, on, the, brake, and, one, on, the,...</td>\n      <td>one, foot, brake, one, gas, hey, well, theres,...</td>\n      <td>one, foot, brake, one, gas, hey, well, theres,...</td>\n    </tr>\n    <tr>\n      <th>464</th>\n      <td>Rock</td>\n      <td>Carry on my wayward son Therell be peace when...</td>\n      <td>carry on my wayward son therell be peace when...</td>\n      <td>[carry, on, my, wayward, son, therell, be, pea...</td>\n      <td>carry, wayward, son, therell, peace, done, lay...</td>\n      <td>carry, wayward, son, therell, peace, done, lay...</td>\n    </tr>\n    <tr>\n      <th>465</th>\n      <td>Rock</td>\n      <td>Ooh yeah Turn it up Come on  Im working hard,...</td>\n      <td>ooh yeah turn it up come on  im working hard ...</td>\n      <td>[ooh, yeah, turn, it, up, come, on, im, workin...</td>\n      <td>ooh, yeah, turn, come, im, working, hard, your...</td>\n      <td>ooh, yeah, turn, come, im, working, hard, your...</td>\n    </tr>\n    <tr>\n      <th>466</th>\n      <td>Rock</td>\n      <td>Out on the road for forty days Last night in ...</td>\n      <td>out on the road for forty days last night in ...</td>\n      <td>[out, on, the, road, for, forty, days, last, n...</td>\n      <td>road, forty, days, last, night, little, rock, ...</td>\n      <td>road, forty, days, last, night, little, rock, ...</td>\n    </tr>\n  </tbody>\n</table>\n<p>186 rows × 6 columns</p>\n</div>"
     },
     "execution_count": 1500,
     "metadata": {},
     "output_type": "execute_result"
    }
   ],
   "source": [
    "columns"
   ],
   "metadata": {
    "collapsed": false
   }
  },
  {
   "cell_type": "markdown",
   "source": [
    "### Data segmentation and training"
   ],
   "metadata": {
    "collapsed": false
   }
  },
  {
   "cell_type": "code",
   "execution_count": 1501,
   "outputs": [
    {
     "data": {
      "text/plain": "Rock       95\nHip-Hop    91\nName: genre, dtype: int64"
     },
     "execution_count": 1501,
     "metadata": {},
     "output_type": "execute_result"
    }
   ],
   "source": [
    "x_train, x_test, y_train, y_test = train_test_split(columns.lemmatised, columns.genre, train_size = 0.7)\n",
    "columns.genre.value_counts()"
   ],
   "metadata": {
    "collapsed": false
   }
  },
  {
   "cell_type": "markdown",
   "source": [
    "### Vectorisation"
   ],
   "metadata": {
    "collapsed": false
   }
  },
  {
   "cell_type": "code",
   "execution_count": 1502,
   "outputs": [],
   "source": [
    "vectoriser = CountVectorizer(ngram_range=(1, 3))\n",
    "vectorised_x_train = vectoriser.fit_transform(x_train)"
   ],
   "metadata": {
    "collapsed": false
   }
  },
  {
   "cell_type": "markdown",
   "source": [
    "### Classification"
   ],
   "metadata": {
    "collapsed": false
   }
  },
  {
   "cell_type": "code",
   "execution_count": 1503,
   "outputs": [
    {
     "data": {
      "text/plain": "MultinomialNB()",
      "text/html": "<style>#sk-container-id-64 {color: black;background-color: white;}#sk-container-id-64 pre{padding: 0;}#sk-container-id-64 div.sk-toggleable {background-color: white;}#sk-container-id-64 label.sk-toggleable__label {cursor: pointer;display: block;width: 100%;margin-bottom: 0;padding: 0.3em;box-sizing: border-box;text-align: center;}#sk-container-id-64 label.sk-toggleable__label-arrow:before {content: \"▸\";float: left;margin-right: 0.25em;color: #696969;}#sk-container-id-64 label.sk-toggleable__label-arrow:hover:before {color: black;}#sk-container-id-64 div.sk-estimator:hover label.sk-toggleable__label-arrow:before {color: black;}#sk-container-id-64 div.sk-toggleable__content {max-height: 0;max-width: 0;overflow: hidden;text-align: left;background-color: #f0f8ff;}#sk-container-id-64 div.sk-toggleable__content pre {margin: 0.2em;color: black;border-radius: 0.25em;background-color: #f0f8ff;}#sk-container-id-64 input.sk-toggleable__control:checked~div.sk-toggleable__content {max-height: 200px;max-width: 100%;overflow: auto;}#sk-container-id-64 input.sk-toggleable__control:checked~label.sk-toggleable__label-arrow:before {content: \"▾\";}#sk-container-id-64 div.sk-estimator input.sk-toggleable__control:checked~label.sk-toggleable__label {background-color: #d4ebff;}#sk-container-id-64 div.sk-label input.sk-toggleable__control:checked~label.sk-toggleable__label {background-color: #d4ebff;}#sk-container-id-64 input.sk-hidden--visually {border: 0;clip: rect(1px 1px 1px 1px);clip: rect(1px, 1px, 1px, 1px);height: 1px;margin: -1px;overflow: hidden;padding: 0;position: absolute;width: 1px;}#sk-container-id-64 div.sk-estimator {font-family: monospace;background-color: #f0f8ff;border: 1px dotted black;border-radius: 0.25em;box-sizing: border-box;margin-bottom: 0.5em;}#sk-container-id-64 div.sk-estimator:hover {background-color: #d4ebff;}#sk-container-id-64 div.sk-parallel-item::after {content: \"\";width: 100%;border-bottom: 1px solid gray;flex-grow: 1;}#sk-container-id-64 div.sk-label:hover label.sk-toggleable__label {background-color: #d4ebff;}#sk-container-id-64 div.sk-serial::before {content: \"\";position: absolute;border-left: 1px solid gray;box-sizing: border-box;top: 0;bottom: 0;left: 50%;z-index: 0;}#sk-container-id-64 div.sk-serial {display: flex;flex-direction: column;align-items: center;background-color: white;padding-right: 0.2em;padding-left: 0.2em;position: relative;}#sk-container-id-64 div.sk-item {position: relative;z-index: 1;}#sk-container-id-64 div.sk-parallel {display: flex;align-items: stretch;justify-content: center;background-color: white;position: relative;}#sk-container-id-64 div.sk-item::before, #sk-container-id-64 div.sk-parallel-item::before {content: \"\";position: absolute;border-left: 1px solid gray;box-sizing: border-box;top: 0;bottom: 0;left: 50%;z-index: -1;}#sk-container-id-64 div.sk-parallel-item {display: flex;flex-direction: column;z-index: 1;position: relative;background-color: white;}#sk-container-id-64 div.sk-parallel-item:first-child::after {align-self: flex-end;width: 50%;}#sk-container-id-64 div.sk-parallel-item:last-child::after {align-self: flex-start;width: 50%;}#sk-container-id-64 div.sk-parallel-item:only-child::after {width: 0;}#sk-container-id-64 div.sk-dashed-wrapped {border: 1px dashed gray;margin: 0 0.4em 0.5em 0.4em;box-sizing: border-box;padding-bottom: 0.4em;background-color: white;}#sk-container-id-64 div.sk-label label {font-family: monospace;font-weight: bold;display: inline-block;line-height: 1.2em;}#sk-container-id-64 div.sk-label-container {text-align: center;}#sk-container-id-64 div.sk-container {/* jupyter's `normalize.less` sets `[hidden] { display: none; }` but bootstrap.min.css set `[hidden] { display: none !important; }` so we also need the `!important` here to be able to override the default hidden behavior on the sphinx rendered scikit-learn.org. See: https://github.com/scikit-learn/scikit-learn/issues/21755 */display: inline-block !important;position: relative;}#sk-container-id-64 div.sk-text-repr-fallback {display: none;}</style><div id=\"sk-container-id-64\" class=\"sk-top-container\"><div class=\"sk-text-repr-fallback\"><pre>MultinomialNB()</pre><b>In a Jupyter environment, please rerun this cell to show the HTML representation or trust the notebook. <br />On GitHub, the HTML representation is unable to render, please try loading this page with nbviewer.org.</b></div><div class=\"sk-container\" hidden><div class=\"sk-item\"><div class=\"sk-estimator sk-toggleable\"><input class=\"sk-toggleable__control sk-hidden--visually\" id=\"sk-estimator-id-64\" type=\"checkbox\" checked><label for=\"sk-estimator-id-64\" class=\"sk-toggleable__label sk-toggleable__label-arrow\">MultinomialNB</label><div class=\"sk-toggleable__content\"><pre>MultinomialNB()</pre></div></div></div></div></div>"
     },
     "execution_count": 1503,
     "metadata": {},
     "output_type": "execute_result"
    }
   ],
   "source": [
    "clf = MultinomialNB()\n",
    "clf.fit(vectorised_x_train, y_train)"
   ],
   "metadata": {
    "collapsed": false
   }
  },
  {
   "cell_type": "code",
   "execution_count": 1504,
   "outputs": [
    {
     "data": {
      "text/plain": "array(['Hip-Hop', 'Rock', 'Hip-Hop', 'Hip-Hop', 'Hip-Hop', 'Hip-Hop',\n       'Hip-Hop', 'Hip-Hop', 'Hip-Hop', 'Hip-Hop', 'Hip-Hop', 'Hip-Hop',\n       'Hip-Hop', 'Hip-Hop', 'Hip-Hop', 'Hip-Hop', 'Hip-Hop', 'Rock',\n       'Hip-Hop', 'Hip-Hop', 'Rock', 'Rock', 'Hip-Hop', 'Hip-Hop', 'Rock',\n       'Rock', 'Hip-Hop', 'Hip-Hop', 'Hip-Hop', 'Hip-Hop', 'Hip-Hop',\n       'Hip-Hop', 'Hip-Hop', 'Hip-Hop', 'Hip-Hop', 'Hip-Hop', 'Hip-Hop',\n       'Hip-Hop', 'Hip-Hop', 'Hip-Hop', 'Hip-Hop', 'Hip-Hop', 'Rock',\n       'Hip-Hop', 'Hip-Hop', 'Rock', 'Hip-Hop', 'Hip-Hop', 'Rock',\n       'Hip-Hop', 'Hip-Hop', 'Hip-Hop', 'Rock', 'Rock', 'Hip-Hop',\n       'Hip-Hop'], dtype='<U7')"
     },
     "execution_count": 1504,
     "metadata": {},
     "output_type": "execute_result"
    }
   ],
   "source": [
    "vectorised_x_test = vectoriser.transform(x_test)\n",
    "clf.predict(vectorised_x_test)"
   ],
   "metadata": {
    "collapsed": false
   }
  },
  {
   "cell_type": "code",
   "execution_count": 1505,
   "outputs": [
    {
     "name": "stdout",
     "output_type": "stream",
     "text": [
      "              precision    recall  f1-score   support\n",
      "\n",
      "     Hip-Hop       0.60      1.00      0.75        27\n",
      "        Rock       1.00      0.38      0.55        29\n",
      "\n",
      "    accuracy                           0.68        56\n",
      "   macro avg       0.80      0.69      0.65        56\n",
      "weighted avg       0.81      0.68      0.65        56\n",
      "\n"
     ]
    }
   ],
   "source": [
    "pred = clf.predict(vectorised_x_test)\n",
    "print(classification_report(y_test, pred))"
   ],
   "metadata": {
    "collapsed": false
   }
  },
  {
   "cell_type": "markdown",
   "source": [
    "## Predicting genre for two arbitrary songs"
   ],
   "metadata": {
    "collapsed": false
   }
  },
  {
   "cell_type": "code",
   "execution_count": 1506,
   "outputs": [
    {
     "data": {
      "text/plain": "     genre                                             lyrics  \\\n0     Rock  Old yellow bricks Love's a risk Quite the litt...   \n1  Hip-Hop  … May I have your attention, please? May I hav...   \n\n                                    SongInfo  \n0  Arctic Monkeys - Old Yellow Bricks Lyrics  \n1        Eminem – The Real Slim Shady Lyrics  ",
      "text/html": "<div>\n<style scoped>\n    .dataframe tbody tr th:only-of-type {\n        vertical-align: middle;\n    }\n\n    .dataframe tbody tr th {\n        vertical-align: top;\n    }\n\n    .dataframe thead th {\n        text-align: right;\n    }\n</style>\n<table border=\"1\" class=\"dataframe\">\n  <thead>\n    <tr style=\"text-align: right;\">\n      <th></th>\n      <th>genre</th>\n      <th>lyrics</th>\n      <th>SongInfo</th>\n    </tr>\n  </thead>\n  <tbody>\n    <tr>\n      <th>0</th>\n      <td>Rock</td>\n      <td>Old yellow bricks Love's a risk Quite the litt...</td>\n      <td>Arctic Monkeys - Old Yellow Bricks Lyrics</td>\n    </tr>\n    <tr>\n      <th>1</th>\n      <td>Hip-Hop</td>\n      <td>… May I have your attention, please? May I hav...</td>\n      <td>Eminem – The Real Slim Shady Lyrics</td>\n    </tr>\n  </tbody>\n</table>\n</div>"
     },
     "execution_count": 1506,
     "metadata": {},
     "output_type": "execute_result"
    }
   ],
   "source": [
    "data =  pd.read_csv(\"songs.csv\")\n",
    "data.head()"
   ],
   "metadata": {
    "collapsed": false
   }
  },
  {
   "cell_type": "code",
   "execution_count": 1507,
   "outputs": [
    {
     "data": {
      "text/plain": "     genre                                             lyrics  \\\n0     Rock  Old yellow bricks Love's a risk Quite the litt...   \n1  Hip-Hop  … May I have your attention, please? May I hav...   \n\n                                          normalised  \\\n0  old yellow bricks loves a risk quite the littl...   \n1  … may i have your attention please may i have ...   \n\n                                             tokened  \\\n0  [old, yellow, bricks, loves, a, risk, quite, t...   \n1  […, may, i, have, your, attention, please, may...   \n\n                                           noiseless  \\\n0  old, yellow, bricks, loves, risk, quite, littl...   \n1  …, may, attention, please, may, attention, ple...   \n\n                                          lemmatised  \n0  old, yellow, bricks, loves, risk, quite, littl...  \n1  …, may, attention, please, may, attention, ple...  ",
      "text/html": "<div>\n<style scoped>\n    .dataframe tbody tr th:only-of-type {\n        vertical-align: middle;\n    }\n\n    .dataframe tbody tr th {\n        vertical-align: top;\n    }\n\n    .dataframe thead th {\n        text-align: right;\n    }\n</style>\n<table border=\"1\" class=\"dataframe\">\n  <thead>\n    <tr style=\"text-align: right;\">\n      <th></th>\n      <th>genre</th>\n      <th>lyrics</th>\n      <th>normalised</th>\n      <th>tokened</th>\n      <th>noiseless</th>\n      <th>lemmatised</th>\n    </tr>\n  </thead>\n  <tbody>\n    <tr>\n      <th>0</th>\n      <td>Rock</td>\n      <td>Old yellow bricks Love's a risk Quite the litt...</td>\n      <td>old yellow bricks loves a risk quite the littl...</td>\n      <td>[old, yellow, bricks, loves, a, risk, quite, t...</td>\n      <td>old, yellow, bricks, loves, risk, quite, littl...</td>\n      <td>old, yellow, bricks, loves, risk, quite, littl...</td>\n    </tr>\n    <tr>\n      <th>1</th>\n      <td>Hip-Hop</td>\n      <td>… May I have your attention, please? May I hav...</td>\n      <td>… may i have your attention please may i have ...</td>\n      <td>[…, may, i, have, your, attention, please, may...</td>\n      <td>…, may, attention, please, may, attention, ple...</td>\n      <td>…, may, attention, please, may, attention, ple...</td>\n    </tr>\n  </tbody>\n</table>\n</div>"
     },
     "execution_count": 1507,
     "metadata": {},
     "output_type": "execute_result"
    }
   ],
   "source": [
    "columns = data[[\"genre\", \"lyrics\"]]\n",
    "\n",
    "# normalised = columns[\"lyrics\"].str.lower()\n",
    "# ^^^ do not remove punctuation\n",
    "normalised = columns[\"lyrics\"].str.replace('[{}]'.format(string.punctuation), '', regex=True).str.lower()\n",
    "# ^^^ remove punctuation\n",
    "\n",
    "columns[\"normalised\"] = normalised\n",
    "\n",
    "columns[\"tokened\"] = columns.apply(lambda row: nltk.word_tokenize(row['normalised']), axis=1)\n",
    "\n",
    "noiseless = columns[\"tokened\"].apply(lambda x: [item for item in x if item not in noise])\n",
    "noiseless_col = [\", \".join(w) for w in noiseless]\n",
    "columns[\"noiseless\"] = noiseless_col\n",
    "\n",
    "lemmatised = columns[\"noiseless\"].apply(lambda x: [lemmatiser.lemmatize(x)])\n",
    "lemmatised_col = [\", \".join(w) for w in lemmatised]\n",
    "columns[\"lemmatised\"] = lemmatised_col\n",
    "\n",
    "columns"
   ],
   "metadata": {
    "collapsed": false
   }
  },
  {
   "cell_type": "code",
   "execution_count": 1508,
   "outputs": [],
   "source": [
    "x_test = columns[[\"lemmatised\"]].squeeze()\n",
    "y_test = columns[[\"genre\"]].squeeze()"
   ],
   "metadata": {
    "collapsed": false
   }
  },
  {
   "cell_type": "code",
   "execution_count": 1509,
   "outputs": [],
   "source": [
    "vectorised_x_test = vectoriser.transform(x_test)"
   ],
   "metadata": {
    "collapsed": false
   }
  },
  {
   "cell_type": "code",
   "execution_count": 1510,
   "outputs": [
    {
     "name": "stdout",
     "output_type": "stream",
     "text": [
      "              precision    recall  f1-score   support\n",
      "\n",
      "     Hip-Hop       1.00      1.00      1.00         1\n",
      "        Rock       1.00      1.00      1.00         1\n",
      "\n",
      "    accuracy                           1.00         2\n",
      "   macro avg       1.00      1.00      1.00         2\n",
      "weighted avg       1.00      1.00      1.00         2\n",
      "\n"
     ]
    }
   ],
   "source": [
    "clf.predict(vectorised_x_test)\n",
    "\n",
    "pred = clf.predict(vectorised_x_test)\n",
    "print(classification_report(y_test, pred))"
   ],
   "metadata": {
    "collapsed": false
   }
  },
  {
   "cell_type": "markdown",
   "source": [
    "## Distinguishing David Bowie from Paul McCartney"
   ],
   "metadata": {
    "collapsed": false
   }
  },
  {
   "cell_type": "code",
   "execution_count": 1511,
   "outputs": [
    {
     "data": {
      "text/plain": "   cantorId   cantorNome     musicaNome  \\\n0         0  david-bowie         Heroes   \n1         0  david-bowie        Starman   \n2         0  david-bowie   Space Oddity   \n3         0  david-bowie  Life On Mars?   \n4         0  david-bowie    Modern Love   \n\n                                               letra  \n0  I, I will be king. And you, you will be queen....  \n1  Didn't know what time it was,. The lights were...  \n2  Ground control to Major Tom. Ground control to...  \n3  It's a god-awful small affair. To the girl wit...  \n4  I know when to go out. And when to stay in. Ge...  ",
      "text/html": "<div>\n<style scoped>\n    .dataframe tbody tr th:only-of-type {\n        vertical-align: middle;\n    }\n\n    .dataframe tbody tr th {\n        vertical-align: top;\n    }\n\n    .dataframe thead th {\n        text-align: right;\n    }\n</style>\n<table border=\"1\" class=\"dataframe\">\n  <thead>\n    <tr style=\"text-align: right;\">\n      <th></th>\n      <th>cantorId</th>\n      <th>cantorNome</th>\n      <th>musicaNome</th>\n      <th>letra</th>\n    </tr>\n  </thead>\n  <tbody>\n    <tr>\n      <th>0</th>\n      <td>0</td>\n      <td>david-bowie</td>\n      <td>Heroes</td>\n      <td>I, I will be king. And you, you will be queen....</td>\n    </tr>\n    <tr>\n      <th>1</th>\n      <td>0</td>\n      <td>david-bowie</td>\n      <td>Starman</td>\n      <td>Didn't know what time it was,. The lights were...</td>\n    </tr>\n    <tr>\n      <th>2</th>\n      <td>0</td>\n      <td>david-bowie</td>\n      <td>Space Oddity</td>\n      <td>Ground control to Major Tom. Ground control to...</td>\n    </tr>\n    <tr>\n      <th>3</th>\n      <td>0</td>\n      <td>david-bowie</td>\n      <td>Life On Mars?</td>\n      <td>It's a god-awful small affair. To the girl wit...</td>\n    </tr>\n    <tr>\n      <th>4</th>\n      <td>0</td>\n      <td>david-bowie</td>\n      <td>Modern Love</td>\n      <td>I know when to go out. And when to stay in. Ge...</td>\n    </tr>\n  </tbody>\n</table>\n</div>"
     },
     "execution_count": 1511,
     "metadata": {},
     "output_type": "execute_result"
    }
   ],
   "source": [
    "data =  pd.read_csv(\"bowie-from-mccartney.csv\")\n",
    "data.head()"
   ],
   "metadata": {
    "collapsed": false
   }
  },
  {
   "cell_type": "code",
   "execution_count": 1512,
   "outputs": [
    {
     "data": {
      "text/plain": "         cantorNome                                              letra  \\\n0       david-bowie  I, I will be king. And you, you will be queen....   \n1       david-bowie  Didn't know what time it was,. The lights were...   \n2       david-bowie  Ground control to Major Tom. Ground control to...   \n3       david-bowie  It's a god-awful small affair. To the girl wit...   \n4       david-bowie  I know when to go out. And when to stay in. Ge...   \n..              ...                                                ...   \n942  paul-mccartney  He's just a young boy looking for a way to fin...   \n943  paul-mccartney  How can I hope to reach your love. Help me to ...   \n944  paul-mccartney  I like it. Please don't take my heart away. It...   \n945  paul-mccartney  Yvonne is the one I´ve been counting on. She s...   \n946  paul-mccartney                                       Instrumental   \n\n                                            normalised  \\\n0    i i will be king and you you will be queen tho...   \n1    didnt know what time it was the lights were lo...   \n2    ground control to major tom ground control to ...   \n3    its a godawful small affair to the girl with t...   \n4    i know when to go out and when to stay in get ...   \n..                                                 ...   \n942  hes just a young boy looking for a way to find...   \n943  how can i hope to reach your love help me to d...   \n944  i like it please dont take my heart away its h...   \n945  yvonne is the one i´ve been counting on she sa...   \n946                                       instrumental   \n\n                                               tokened  \\\n0    [i, i, will, be, king, and, you, you, will, be...   \n1    [didnt, know, what, time, it, was, the, lights...   \n2    [ground, control, to, major, tom, ground, cont...   \n3    [its, a, godawful, small, affair, to, the, gir...   \n4    [i, know, when, to, go, out, and, when, to, st...   \n..                                                 ...   \n942  [hes, just, a, young, boy, looking, for, a, wa...   \n943  [how, can, i, hope, to, reach, your, love, hel...   \n944  [i, like, it, please, dont, take, my, heart, a...   \n945  [yvonne, is, the, one, i´ve, been, counting, o...   \n946                                     [instrumental]   \n\n                                             noiseless  \\\n0    king, queen, though, nothing, drive, away, bea...   \n1    didnt, know, time, lights, low, leaned, back, ...   \n2    ground, control, major, tom, ground, control, ...   \n3    godawful, small, affair, girl, mousy, hair, mu...   \n4    know, go, stay, get, things, done, catch, pape...   \n..                                                 ...   \n942  hes, young, boy, looking, way, find, love, isn...   \n943  hope, reach, love, help, discover, youre, thin...   \n944  like, please, dont, take, heart, away, happy, ...   \n945  yvonne, one, i´ve, counting, said, long, you´r...   \n946                                       instrumental   \n\n                                            lemmatised  \n0    king, queen, though, nothing, drive, away, bea...  \n1    didnt, know, time, lights, low, leaned, back, ...  \n2    ground, control, major, tom, ground, control, ...  \n3    godawful, small, affair, girl, mousy, hair, mu...  \n4    know, go, stay, get, things, done, catch, pape...  \n..                                                 ...  \n942  hes, young, boy, looking, way, find, love, isn...  \n943  hope, reach, love, help, discover, youre, thin...  \n944  like, please, dont, take, heart, away, happy, ...  \n945  yvonne, one, i´ve, counting, said, long, you´r...  \n946                                       instrumental  \n\n[947 rows x 6 columns]",
      "text/html": "<div>\n<style scoped>\n    .dataframe tbody tr th:only-of-type {\n        vertical-align: middle;\n    }\n\n    .dataframe tbody tr th {\n        vertical-align: top;\n    }\n\n    .dataframe thead th {\n        text-align: right;\n    }\n</style>\n<table border=\"1\" class=\"dataframe\">\n  <thead>\n    <tr style=\"text-align: right;\">\n      <th></th>\n      <th>cantorNome</th>\n      <th>letra</th>\n      <th>normalised</th>\n      <th>tokened</th>\n      <th>noiseless</th>\n      <th>lemmatised</th>\n    </tr>\n  </thead>\n  <tbody>\n    <tr>\n      <th>0</th>\n      <td>david-bowie</td>\n      <td>I, I will be king. And you, you will be queen....</td>\n      <td>i i will be king and you you will be queen tho...</td>\n      <td>[i, i, will, be, king, and, you, you, will, be...</td>\n      <td>king, queen, though, nothing, drive, away, bea...</td>\n      <td>king, queen, though, nothing, drive, away, bea...</td>\n    </tr>\n    <tr>\n      <th>1</th>\n      <td>david-bowie</td>\n      <td>Didn't know what time it was,. The lights were...</td>\n      <td>didnt know what time it was the lights were lo...</td>\n      <td>[didnt, know, what, time, it, was, the, lights...</td>\n      <td>didnt, know, time, lights, low, leaned, back, ...</td>\n      <td>didnt, know, time, lights, low, leaned, back, ...</td>\n    </tr>\n    <tr>\n      <th>2</th>\n      <td>david-bowie</td>\n      <td>Ground control to Major Tom. Ground control to...</td>\n      <td>ground control to major tom ground control to ...</td>\n      <td>[ground, control, to, major, tom, ground, cont...</td>\n      <td>ground, control, major, tom, ground, control, ...</td>\n      <td>ground, control, major, tom, ground, control, ...</td>\n    </tr>\n    <tr>\n      <th>3</th>\n      <td>david-bowie</td>\n      <td>It's a god-awful small affair. To the girl wit...</td>\n      <td>its a godawful small affair to the girl with t...</td>\n      <td>[its, a, godawful, small, affair, to, the, gir...</td>\n      <td>godawful, small, affair, girl, mousy, hair, mu...</td>\n      <td>godawful, small, affair, girl, mousy, hair, mu...</td>\n    </tr>\n    <tr>\n      <th>4</th>\n      <td>david-bowie</td>\n      <td>I know when to go out. And when to stay in. Ge...</td>\n      <td>i know when to go out and when to stay in get ...</td>\n      <td>[i, know, when, to, go, out, and, when, to, st...</td>\n      <td>know, go, stay, get, things, done, catch, pape...</td>\n      <td>know, go, stay, get, things, done, catch, pape...</td>\n    </tr>\n    <tr>\n      <th>...</th>\n      <td>...</td>\n      <td>...</td>\n      <td>...</td>\n      <td>...</td>\n      <td>...</td>\n      <td>...</td>\n    </tr>\n    <tr>\n      <th>942</th>\n      <td>paul-mccartney</td>\n      <td>He's just a young boy looking for a way to fin...</td>\n      <td>hes just a young boy looking for a way to find...</td>\n      <td>[hes, just, a, young, boy, looking, for, a, wa...</td>\n      <td>hes, young, boy, looking, way, find, love, isn...</td>\n      <td>hes, young, boy, looking, way, find, love, isn...</td>\n    </tr>\n    <tr>\n      <th>943</th>\n      <td>paul-mccartney</td>\n      <td>How can I hope to reach your love. Help me to ...</td>\n      <td>how can i hope to reach your love help me to d...</td>\n      <td>[how, can, i, hope, to, reach, your, love, hel...</td>\n      <td>hope, reach, love, help, discover, youre, thin...</td>\n      <td>hope, reach, love, help, discover, youre, thin...</td>\n    </tr>\n    <tr>\n      <th>944</th>\n      <td>paul-mccartney</td>\n      <td>I like it. Please don't take my heart away. It...</td>\n      <td>i like it please dont take my heart away its h...</td>\n      <td>[i, like, it, please, dont, take, my, heart, a...</td>\n      <td>like, please, dont, take, heart, away, happy, ...</td>\n      <td>like, please, dont, take, heart, away, happy, ...</td>\n    </tr>\n    <tr>\n      <th>945</th>\n      <td>paul-mccartney</td>\n      <td>Yvonne is the one I´ve been counting on. She s...</td>\n      <td>yvonne is the one i´ve been counting on she sa...</td>\n      <td>[yvonne, is, the, one, i´ve, been, counting, o...</td>\n      <td>yvonne, one, i´ve, counting, said, long, you´r...</td>\n      <td>yvonne, one, i´ve, counting, said, long, you´r...</td>\n    </tr>\n    <tr>\n      <th>946</th>\n      <td>paul-mccartney</td>\n      <td>Instrumental</td>\n      <td>instrumental</td>\n      <td>[instrumental]</td>\n      <td>instrumental</td>\n      <td>instrumental</td>\n    </tr>\n  </tbody>\n</table>\n<p>947 rows × 6 columns</p>\n</div>"
     },
     "execution_count": 1512,
     "metadata": {},
     "output_type": "execute_result"
    }
   ],
   "source": [
    "columns = data[[\"cantorNome\", \"letra\"]]\n",
    "\n",
    "columns = columns[(columns[\"cantorNome\"] == \"david-bowie\") | (columns[\"cantorNome\"] == \"paul-mccartney\")]\n",
    "\n",
    "# normalised = columns[\"letra\"].str.lower()\n",
    "# ^^^ do not remove punctuation\n",
    "normalised = columns[\"letra\"].str.replace('[{}]'.format(string.punctuation), '', regex=True).str.lower()\n",
    "# ^^^ remove punctuation\n",
    "\n",
    "columns[\"normalised\"] = normalised\n",
    "\n",
    "columns[\"tokened\"] = columns.apply(lambda row: nltk.word_tokenize(row['normalised']), axis=1)\n",
    "\n",
    "noiseless = columns[\"tokened\"].apply(lambda x: [item for item in x if item not in noise])\n",
    "noiseless_col = [\", \".join(w) for w in noiseless]\n",
    "columns[\"noiseless\"] = noiseless_col\n",
    "\n",
    "lemmatised = columns[\"noiseless\"].apply(lambda x: [lemmatiser.lemmatize(x)])\n",
    "lemmatised_col = [\", \".join(w) for w in lemmatised]\n",
    "columns[\"lemmatised\"] = lemmatised_col\n",
    "\n",
    "columns"
   ],
   "metadata": {
    "collapsed": false
   }
  },
  {
   "cell_type": "code",
   "execution_count": 1513,
   "outputs": [
    {
     "data": {
      "text/plain": "david-bowie       483\npaul-mccartney    464\nName: cantorNome, dtype: int64"
     },
     "execution_count": 1513,
     "metadata": {},
     "output_type": "execute_result"
    }
   ],
   "source": [
    "x_train, x_test, y_train, y_test = train_test_split(columns.lemmatised, columns.cantorNome, train_size = 0.7)\n",
    "columns.cantorNome.value_counts()"
   ],
   "metadata": {
    "collapsed": false
   }
  },
  {
   "cell_type": "code",
   "execution_count": 1514,
   "outputs": [
    {
     "data": {
      "text/plain": "MultinomialNB()",
      "text/html": "<style>#sk-container-id-65 {color: black;background-color: white;}#sk-container-id-65 pre{padding: 0;}#sk-container-id-65 div.sk-toggleable {background-color: white;}#sk-container-id-65 label.sk-toggleable__label {cursor: pointer;display: block;width: 100%;margin-bottom: 0;padding: 0.3em;box-sizing: border-box;text-align: center;}#sk-container-id-65 label.sk-toggleable__label-arrow:before {content: \"▸\";float: left;margin-right: 0.25em;color: #696969;}#sk-container-id-65 label.sk-toggleable__label-arrow:hover:before {color: black;}#sk-container-id-65 div.sk-estimator:hover label.sk-toggleable__label-arrow:before {color: black;}#sk-container-id-65 div.sk-toggleable__content {max-height: 0;max-width: 0;overflow: hidden;text-align: left;background-color: #f0f8ff;}#sk-container-id-65 div.sk-toggleable__content pre {margin: 0.2em;color: black;border-radius: 0.25em;background-color: #f0f8ff;}#sk-container-id-65 input.sk-toggleable__control:checked~div.sk-toggleable__content {max-height: 200px;max-width: 100%;overflow: auto;}#sk-container-id-65 input.sk-toggleable__control:checked~label.sk-toggleable__label-arrow:before {content: \"▾\";}#sk-container-id-65 div.sk-estimator input.sk-toggleable__control:checked~label.sk-toggleable__label {background-color: #d4ebff;}#sk-container-id-65 div.sk-label input.sk-toggleable__control:checked~label.sk-toggleable__label {background-color: #d4ebff;}#sk-container-id-65 input.sk-hidden--visually {border: 0;clip: rect(1px 1px 1px 1px);clip: rect(1px, 1px, 1px, 1px);height: 1px;margin: -1px;overflow: hidden;padding: 0;position: absolute;width: 1px;}#sk-container-id-65 div.sk-estimator {font-family: monospace;background-color: #f0f8ff;border: 1px dotted black;border-radius: 0.25em;box-sizing: border-box;margin-bottom: 0.5em;}#sk-container-id-65 div.sk-estimator:hover {background-color: #d4ebff;}#sk-container-id-65 div.sk-parallel-item::after {content: \"\";width: 100%;border-bottom: 1px solid gray;flex-grow: 1;}#sk-container-id-65 div.sk-label:hover label.sk-toggleable__label {background-color: #d4ebff;}#sk-container-id-65 div.sk-serial::before {content: \"\";position: absolute;border-left: 1px solid gray;box-sizing: border-box;top: 0;bottom: 0;left: 50%;z-index: 0;}#sk-container-id-65 div.sk-serial {display: flex;flex-direction: column;align-items: center;background-color: white;padding-right: 0.2em;padding-left: 0.2em;position: relative;}#sk-container-id-65 div.sk-item {position: relative;z-index: 1;}#sk-container-id-65 div.sk-parallel {display: flex;align-items: stretch;justify-content: center;background-color: white;position: relative;}#sk-container-id-65 div.sk-item::before, #sk-container-id-65 div.sk-parallel-item::before {content: \"\";position: absolute;border-left: 1px solid gray;box-sizing: border-box;top: 0;bottom: 0;left: 50%;z-index: -1;}#sk-container-id-65 div.sk-parallel-item {display: flex;flex-direction: column;z-index: 1;position: relative;background-color: white;}#sk-container-id-65 div.sk-parallel-item:first-child::after {align-self: flex-end;width: 50%;}#sk-container-id-65 div.sk-parallel-item:last-child::after {align-self: flex-start;width: 50%;}#sk-container-id-65 div.sk-parallel-item:only-child::after {width: 0;}#sk-container-id-65 div.sk-dashed-wrapped {border: 1px dashed gray;margin: 0 0.4em 0.5em 0.4em;box-sizing: border-box;padding-bottom: 0.4em;background-color: white;}#sk-container-id-65 div.sk-label label {font-family: monospace;font-weight: bold;display: inline-block;line-height: 1.2em;}#sk-container-id-65 div.sk-label-container {text-align: center;}#sk-container-id-65 div.sk-container {/* jupyter's `normalize.less` sets `[hidden] { display: none; }` but bootstrap.min.css set `[hidden] { display: none !important; }` so we also need the `!important` here to be able to override the default hidden behavior on the sphinx rendered scikit-learn.org. See: https://github.com/scikit-learn/scikit-learn/issues/21755 */display: inline-block !important;position: relative;}#sk-container-id-65 div.sk-text-repr-fallback {display: none;}</style><div id=\"sk-container-id-65\" class=\"sk-top-container\"><div class=\"sk-text-repr-fallback\"><pre>MultinomialNB()</pre><b>In a Jupyter environment, please rerun this cell to show the HTML representation or trust the notebook. <br />On GitHub, the HTML representation is unable to render, please try loading this page with nbviewer.org.</b></div><div class=\"sk-container\" hidden><div class=\"sk-item\"><div class=\"sk-estimator sk-toggleable\"><input class=\"sk-toggleable__control sk-hidden--visually\" id=\"sk-estimator-id-65\" type=\"checkbox\" checked><label for=\"sk-estimator-id-65\" class=\"sk-toggleable__label sk-toggleable__label-arrow\">MultinomialNB</label><div class=\"sk-toggleable__content\"><pre>MultinomialNB()</pre></div></div></div></div></div>"
     },
     "execution_count": 1514,
     "metadata": {},
     "output_type": "execute_result"
    }
   ],
   "source": [
    "vectorised_x_train = vectoriser.fit_transform(x_train)\n",
    "clf.fit(vectorised_x_train, y_train)"
   ],
   "metadata": {
    "collapsed": false
   }
  },
  {
   "cell_type": "code",
   "execution_count": 1515,
   "outputs": [
    {
     "data": {
      "text/plain": "array(['david-bowie', 'paul-mccartney', 'paul-mccartney',\n       'paul-mccartney', 'paul-mccartney', 'david-bowie', 'david-bowie',\n       'david-bowie', 'paul-mccartney', 'paul-mccartney',\n       'paul-mccartney', 'david-bowie', 'paul-mccartney', 'david-bowie',\n       'david-bowie', 'david-bowie', 'paul-mccartney', 'paul-mccartney',\n       'paul-mccartney', 'paul-mccartney', 'paul-mccartney',\n       'david-bowie', 'paul-mccartney', 'paul-mccartney', 'david-bowie',\n       'paul-mccartney', 'david-bowie', 'david-bowie', 'paul-mccartney',\n       'paul-mccartney', 'paul-mccartney', 'paul-mccartney',\n       'david-bowie', 'david-bowie', 'david-bowie', 'david-bowie',\n       'paul-mccartney', 'david-bowie', 'david-bowie', 'david-bowie',\n       'david-bowie', 'paul-mccartney', 'david-bowie', 'paul-mccartney',\n       'paul-mccartney', 'paul-mccartney', 'paul-mccartney',\n       'paul-mccartney', 'david-bowie', 'david-bowie', 'david-bowie',\n       'david-bowie', 'paul-mccartney', 'david-bowie', 'paul-mccartney',\n       'paul-mccartney', 'david-bowie', 'david-bowie', 'paul-mccartney',\n       'paul-mccartney', 'david-bowie', 'david-bowie', 'david-bowie',\n       'paul-mccartney', 'paul-mccartney', 'paul-mccartney',\n       'paul-mccartney', 'paul-mccartney', 'david-bowie', 'david-bowie',\n       'paul-mccartney', 'paul-mccartney', 'david-bowie', 'david-bowie',\n       'david-bowie', 'david-bowie', 'david-bowie', 'paul-mccartney',\n       'david-bowie', 'paul-mccartney', 'david-bowie', 'paul-mccartney',\n       'paul-mccartney', 'paul-mccartney', 'david-bowie',\n       'paul-mccartney', 'paul-mccartney', 'david-bowie',\n       'paul-mccartney', 'david-bowie', 'paul-mccartney',\n       'paul-mccartney', 'david-bowie', 'david-bowie', 'david-bowie',\n       'david-bowie', 'paul-mccartney', 'david-bowie', 'paul-mccartney',\n       'paul-mccartney', 'david-bowie', 'paul-mccartney', 'david-bowie',\n       'paul-mccartney', 'paul-mccartney', 'paul-mccartney',\n       'paul-mccartney', 'paul-mccartney', 'paul-mccartney',\n       'paul-mccartney', 'paul-mccartney', 'paul-mccartney',\n       'paul-mccartney', 'paul-mccartney', 'david-bowie', 'david-bowie',\n       'david-bowie', 'paul-mccartney', 'david-bowie', 'david-bowie',\n       'paul-mccartney', 'paul-mccartney', 'david-bowie',\n       'paul-mccartney', 'paul-mccartney', 'paul-mccartney',\n       'david-bowie', 'david-bowie', 'david-bowie', 'paul-mccartney',\n       'david-bowie', 'paul-mccartney', 'paul-mccartney', 'david-bowie',\n       'david-bowie', 'paul-mccartney', 'david-bowie', 'paul-mccartney',\n       'paul-mccartney', 'david-bowie', 'paul-mccartney',\n       'paul-mccartney', 'paul-mccartney', 'david-bowie', 'david-bowie',\n       'paul-mccartney', 'david-bowie', 'paul-mccartney',\n       'paul-mccartney', 'paul-mccartney', 'david-bowie',\n       'paul-mccartney', 'paul-mccartney', 'paul-mccartney',\n       'david-bowie', 'david-bowie', 'paul-mccartney', 'paul-mccartney',\n       'david-bowie', 'david-bowie', 'david-bowie', 'paul-mccartney',\n       'paul-mccartney', 'david-bowie', 'david-bowie', 'paul-mccartney',\n       'david-bowie', 'david-bowie', 'paul-mccartney', 'david-bowie',\n       'david-bowie', 'david-bowie', 'david-bowie', 'david-bowie',\n       'david-bowie', 'paul-mccartney', 'paul-mccartney', 'david-bowie',\n       'paul-mccartney', 'paul-mccartney', 'paul-mccartney',\n       'paul-mccartney', 'paul-mccartney', 'paul-mccartney',\n       'paul-mccartney', 'david-bowie', 'paul-mccartney', 'david-bowie',\n       'david-bowie', 'paul-mccartney', 'david-bowie', 'david-bowie',\n       'paul-mccartney', 'paul-mccartney', 'paul-mccartney',\n       'david-bowie', 'david-bowie', 'david-bowie', 'david-bowie',\n       'david-bowie', 'david-bowie', 'paul-mccartney', 'david-bowie',\n       'paul-mccartney', 'paul-mccartney', 'paul-mccartney',\n       'paul-mccartney', 'david-bowie', 'david-bowie', 'paul-mccartney',\n       'paul-mccartney', 'david-bowie', 'david-bowie', 'david-bowie',\n       'david-bowie', 'paul-mccartney', 'paul-mccartney',\n       'paul-mccartney', 'david-bowie', 'paul-mccartney', 'david-bowie',\n       'paul-mccartney', 'paul-mccartney', 'paul-mccartney',\n       'paul-mccartney', 'david-bowie', 'david-bowie', 'paul-mccartney',\n       'david-bowie', 'paul-mccartney', 'paul-mccartney',\n       'paul-mccartney', 'david-bowie', 'david-bowie', 'david-bowie',\n       'paul-mccartney', 'david-bowie', 'paul-mccartney', 'david-bowie',\n       'paul-mccartney', 'david-bowie', 'paul-mccartney',\n       'paul-mccartney', 'paul-mccartney', 'david-bowie', 'david-bowie',\n       'david-bowie', 'paul-mccartney', 'david-bowie', 'david-bowie',\n       'paul-mccartney', 'paul-mccartney', 'paul-mccartney',\n       'paul-mccartney', 'paul-mccartney', 'paul-mccartney',\n       'david-bowie', 'paul-mccartney', 'david-bowie', 'paul-mccartney',\n       'paul-mccartney', 'paul-mccartney', 'paul-mccartney',\n       'david-bowie', 'david-bowie', 'paul-mccartney', 'david-bowie',\n       'david-bowie', 'paul-mccartney', 'paul-mccartney',\n       'paul-mccartney', 'david-bowie', 'paul-mccartney', 'david-bowie',\n       'david-bowie', 'paul-mccartney', 'david-bowie', 'paul-mccartney',\n       'paul-mccartney', 'paul-mccartney', 'paul-mccartney',\n       'paul-mccartney', 'david-bowie', 'paul-mccartney',\n       'paul-mccartney'], dtype='<U14')"
     },
     "execution_count": 1515,
     "metadata": {},
     "output_type": "execute_result"
    }
   ],
   "source": [
    "vectorised_x_test = vectoriser.transform(x_test)\n",
    "clf.predict(vectorised_x_test)"
   ],
   "metadata": {
    "collapsed": false
   }
  },
  {
   "cell_type": "code",
   "execution_count": 1516,
   "outputs": [
    {
     "name": "stdout",
     "output_type": "stream",
     "text": [
      "                precision    recall  f1-score   support\n",
      "\n",
      "   david-bowie       0.74      0.69      0.72       139\n",
      "paul-mccartney       0.72      0.77      0.75       146\n",
      "\n",
      "      accuracy                           0.73       285\n",
      "     macro avg       0.73      0.73      0.73       285\n",
      "  weighted avg       0.73      0.73      0.73       285\n",
      "\n"
     ]
    }
   ],
   "source": [
    "pred = clf.predict(vectorised_x_test)\n",
    "print(classification_report(y_test, pred))"
   ],
   "metadata": {
    "collapsed": false
   }
  },
  {
   "cell_type": "code",
   "execution_count": 1516,
   "outputs": [],
   "source": [],
   "metadata": {
    "collapsed": false
   }
  }
 ],
 "metadata": {
  "kernelspec": {
   "display_name": "Python 3",
   "language": "python",
   "name": "python3"
  },
  "language_info": {
   "codemirror_mode": {
    "name": "ipython",
    "version": 2
   },
   "file_extension": ".py",
   "mimetype": "text/x-python",
   "name": "python",
   "nbconvert_exporter": "python",
   "pygments_lexer": "ipython2",
   "version": "2.7.6"
  }
 },
 "nbformat": 4,
 "nbformat_minor": 0
}
